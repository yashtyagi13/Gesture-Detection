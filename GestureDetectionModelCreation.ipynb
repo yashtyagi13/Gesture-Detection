{
  "nbformat": 4,
  "nbformat_minor": 0,
  "metadata": {
    "colab": {
      "provenance": []
    },
    "kernelspec": {
      "name": "python3",
      "display_name": "Python 3"
    },
    "language_info": {
      "name": "python"
    },
    "accelerator": "GPU",
    "gpuClass": "standard"
  },
  "cells": [
    {
      "cell_type": "code",
      "source": [
        "from google.colab import drive\n",
        "drive.mount('/content/drive')"
      ],
      "metadata": {
        "id": "_o5z0BZvzHq6",
        "colab": {
          "base_uri": "https://localhost:8080/"
        },
        "outputId": "bfa94dea-f0a7-4037-a871-dcc6634b311b"
      },
      "execution_count": 1,
      "outputs": [
        {
          "output_type": "stream",
          "name": "stdout",
          "text": [
            "Mounted at /content/drive\n"
          ]
        }
      ]
    },
    {
      "cell_type": "code",
      "execution_count": 168,
      "metadata": {
        "id": "LN1N0stJwxdV"
      },
      "outputs": [],
      "source": [
        "import numpy as np\n",
        "import os\n",
        "import pandas as pd\n",
        "import cv2\n",
        "import matplotlib.pyplot as plt\n",
        "%matplotlib inline\n",
        "import tensorflow as tf\n",
        "import keras\n",
        "from keras import layers\n",
        "import numpy as np\n",
        "from keras.layers import Conv2D, Dense, Flatten, Dropout, MaxPooling2D\n",
        "from keras.models import Sequential, save_model\n",
        "from keras.utils import np_utils\n",
        "from keras.callbacks import ModelCheckpoint\n",
        "from sklearn.model_selection import train_test_split\n",
        "from sklearn.utils import shuffle\n",
        "import os\n",
        "import cv2\n",
        "# from keras.layers import Sequential\n",
        "from keras.preprocessing.image import ImageDataGenerator\n",
        "from keras.models import Model,load_model\n",
        "from keras.layers import Input, Dense, Add,Activation, AveragePooling2D, BatchNormalization, Flatten, Conv2D, MaxPooling2D, Dropout, ZeroPadding2D\n",
        "from keras.utils import to_categorical\n",
        "from keras.initializers import glorot_uniform\n",
        "from keras import regularizers\n",
        "import scipy.misc\n",
        "from sklearn.model_selection import train_test_split\n",
        "from numpy import argmax\n"
      ]
    },
    {
      "cell_type": "code",
      "source": [
        "root_directory=\"/content/drive/MyDrive/DATASETS/\"\n",
        "# survival_words_directory=\"/content/drive/MyDrive/DATASETS/25_survival_words/\"\n",
        "alphabets_directory=\"/content/drive/MyDrive/DATASETS/ALPHABETS/\"\n",
        "numbers_directory=\"/content/drive/MyDrive/DATASETS/NUMBERS/\""
      ],
      "metadata": {
        "id": "7mpfokyiyn5-"
      },
      "execution_count": 169,
      "outputs": []
    },
    {
      "cell_type": "code",
      "source": [
        "k=0"
      ],
      "metadata": {
        "id": "iHFE9KsI05pw"
      },
      "execution_count": 170,
      "outputs": []
    },
    {
      "cell_type": "code",
      "source": [
        "def load_dataset(directory,k):\n",
        "  images=[]\n",
        "  labels=[]\n",
        "  for idx,label in enumerate(uniq_labels):\n",
        "    for file in os.listdir(directory + label):\n",
        "      filepath = directory + label +\"/\" + file\n",
        "      img = cv2.resize(cv2.imread(filepath),(50,50))\n",
        "      images.append(img)\n",
        "      labels.append(k)\n",
        "    k+=1\n",
        "  images = np.asarray(images)\n",
        "  labels = np.asarray(labels)\n",
        "  return images, labels,k"
      ],
      "metadata": {
        "id": "tlG0ZBcvz0o9"
      },
      "execution_count": 171,
      "outputs": []
    },
    {
      "cell_type": "code",
      "source": [
        "# uniq_labels=sorted(os.listdir(alphabets_directory))\n",
        "# print(uniq_labels)"
      ],
      "metadata": {
        "id": "_Ga2kbhplYR5"
      },
      "execution_count": 172,
      "outputs": []
    },
    {
      "cell_type": "code",
      "source": [
        "uniq_labels=sorted(os.listdir(numbers_directory))\n",
        "X_numbers_directory,y_numbers_directory,k=load_dataset(numbers_directory,k)"
      ],
      "metadata": {
        "id": "pjg6OXTO1nWt"
      },
      "execution_count": 173,
      "outputs": []
    },
    {
      "cell_type": "code",
      "source": [
        "# /content/drive/MyDrive/DATASETS/NUMBERS"
      ],
      "metadata": {
        "id": "RSdYfPquDOOF"
      },
      "execution_count": 174,
      "outputs": []
    },
    {
      "cell_type": "code",
      "source": [
        "y_numbers_directory\n"
      ],
      "metadata": {
        "id": "TCj2kwvR-ELb",
        "colab": {
          "base_uri": "https://localhost:8080/"
        },
        "outputId": "6b8aa67d-4bcc-47a7-85d9-e632f965500f"
      },
      "execution_count": 175,
      "outputs": [
        {
          "output_type": "execute_result",
          "data": {
            "text/plain": [
              "array([0, 0, 0, ..., 9, 9, 9])"
            ]
          },
          "metadata": {},
          "execution_count": 175
        }
      ]
    },
    {
      "cell_type": "code",
      "source": [
        "uniq_labels=sorted(os.listdir(alphabets_directory))\n",
        "X_alphabets_directory,y_alphabets_directory,k=load_dataset(alphabets_directory,k)"
      ],
      "metadata": {
        "id": "WFNry9Q74fuk"
      },
      "execution_count": 176,
      "outputs": []
    },
    {
      "cell_type": "code",
      "source": [
        "y_alphabets_directory"
      ],
      "metadata": {
        "colab": {
          "base_uri": "https://localhost:8080/"
        },
        "id": "hCtZQmSqltyY",
        "outputId": "9df38e9c-e0a6-4f22-9841-72089c2e47f3"
      },
      "execution_count": 177,
      "outputs": [
        {
          "output_type": "execute_result",
          "data": {
            "text/plain": [
              "array([10, 10, 10, ..., 34, 34, 34])"
            ]
          },
          "metadata": {},
          "execution_count": 177
        }
      ]
    },
    {
      "cell_type": "code",
      "source": [
        "# uniq_labels=sorted(os.listdir(survival_words_directory))\n",
        "# X_survival_words_directory,y_survival_words_directory,k=load_dataset(survival_words_directory,k)"
      ],
      "metadata": {
        "id": "-PkTSvxZ6P3U"
      },
      "execution_count": 178,
      "outputs": []
    },
    {
      "cell_type": "code",
      "source": [
        "# y_survival_words_directory"
      ],
      "metadata": {
        "id": "eK6HcZSL7qsh"
      },
      "execution_count": 179,
      "outputs": []
    },
    {
      "cell_type": "code",
      "source": [
        "X=[]\n",
        "y=[]"
      ],
      "metadata": {
        "id": "AAlKyRer7sIJ"
      },
      "execution_count": 180,
      "outputs": []
    },
    {
      "cell_type": "code",
      "source": [
        "X=np.concatenate((X_numbers_directory,X_alphabets_directory))"
      ],
      "metadata": {
        "id": "lcyyqHLMjswn"
      },
      "execution_count": 181,
      "outputs": []
    },
    {
      "cell_type": "code",
      "source": [
        "# X=np.concatenate((X,X_survival_words_directory))"
      ],
      "metadata": {
        "id": "Okvdf-GbkMmz"
      },
      "execution_count": 182,
      "outputs": []
    },
    {
      "cell_type": "code",
      "source": [],
      "metadata": {
        "id": "d-ZgADFnkNcl"
      },
      "execution_count": 182,
      "outputs": []
    },
    {
      "cell_type": "code",
      "source": [
        "y=np.concatenate((y_numbers_directory,y_alphabets_directory))"
      ],
      "metadata": {
        "id": "GKmTIu-PkVbt"
      },
      "execution_count": 183,
      "outputs": []
    },
    {
      "cell_type": "code",
      "source": [
        "# y=np.concatenate((y,y_survival_words_directory))"
      ],
      "metadata": {
        "id": "RHtlZHHrkdyW"
      },
      "execution_count": 184,
      "outputs": []
    },
    {
      "cell_type": "code",
      "source": [
        "y"
      ],
      "metadata": {
        "colab": {
          "base_uri": "https://localhost:8080/"
        },
        "id": "JsdGZs00dyQX",
        "outputId": "c1037650-6a24-403e-e388-3f51df364da3"
      },
      "execution_count": 185,
      "outputs": [
        {
          "output_type": "execute_result",
          "data": {
            "text/plain": [
              "array([ 0,  0,  0, ..., 34, 34, 34])"
            ]
          },
          "metadata": {},
          "execution_count": 185
        }
      ]
    },
    {
      "cell_type": "code",
      "source": [
        "# list(y.keys())\n",
        "y = to_categorical(y)\n"
      ],
      "metadata": {
        "id": "rdDMt6jbsoZ0"
      },
      "execution_count": 186,
      "outputs": []
    },
    {
      "cell_type": "code",
      "source": [
        "X_train, X_test, Y_train, Y_test = train_test_split(X, y, test_size = 0.2)"
      ],
      "metadata": {
        "id": "Otmh-cbEkhVO"
      },
      "execution_count": 187,
      "outputs": []
    },
    {
      "cell_type": "code",
      "source": [],
      "metadata": {
        "id": "ugRhgtA4snuz"
      },
      "execution_count": 187,
      "outputs": []
    },
    {
      "cell_type": "code",
      "source": [
        "X_train = X_train / 255.\n",
        "X_test = X_test/ 255."
      ],
      "metadata": {
        "id": "aNg5xH7mkorj"
      },
      "execution_count": 188,
      "outputs": []
    },
    {
      "cell_type": "code",
      "source": [],
      "metadata": {
        "id": "NMLQFDtKe4Ts"
      },
      "execution_count": 188,
      "outputs": []
    },
    {
      "cell_type": "code",
      "source": [
        "model = Sequential()\n",
        "model.add(Conv2D(64, kernel_size=(3,3), activation = 'relu', input_shape=(50,50,3) ))\n",
        "model.add(MaxPooling2D(pool_size = (2, 2)))\n",
        "\n",
        "model.add(Conv2D(64, kernel_size = (3, 3), activation = 'relu'))\n",
        "model.add(MaxPooling2D(pool_size = (2, 2)))\n",
        "\n",
        "model.add(Conv2D(64, kernel_size = (3, 3), activation = 'relu'))\n",
        "model.add(MaxPooling2D(pool_size = (2, 2)))\n",
        "\n",
        "model.add(Flatten())\n",
        "model.add(Dense(128, activation = 'relu'))\n",
        "model.add(Dropout(0.20))\n",
        "model.add(Dense(y.shape[1], activation = 'softmax'))\n",
        "\n",
        "model.summary()"
      ],
      "metadata": {
        "id": "fOH060y6kqdY",
        "colab": {
          "base_uri": "https://localhost:8080/"
        },
        "outputId": "092cec01-a4ec-4f86-8aa5-5782d0703d54"
      },
      "execution_count": 189,
      "outputs": [
        {
          "output_type": "stream",
          "name": "stdout",
          "text": [
            "Model: \"sequential_3\"\n",
            "_________________________________________________________________\n",
            " Layer (type)                Output Shape              Param #   \n",
            "=================================================================\n",
            " conv2d_9 (Conv2D)           (None, 48, 48, 64)        1792      \n",
            "                                                                 \n",
            " max_pooling2d_9 (MaxPooling  (None, 24, 24, 64)       0         \n",
            " 2D)                                                             \n",
            "                                                                 \n",
            " conv2d_10 (Conv2D)          (None, 22, 22, 64)        36928     \n",
            "                                                                 \n",
            " max_pooling2d_10 (MaxPoolin  (None, 11, 11, 64)       0         \n",
            " g2D)                                                            \n",
            "                                                                 \n",
            " conv2d_11 (Conv2D)          (None, 9, 9, 64)          36928     \n",
            "                                                                 \n",
            " max_pooling2d_11 (MaxPoolin  (None, 4, 4, 64)         0         \n",
            " g2D)                                                            \n",
            "                                                                 \n",
            " flatten_3 (Flatten)         (None, 1024)              0         \n",
            "                                                                 \n",
            " dense_6 (Dense)             (None, 128)               131200    \n",
            "                                                                 \n",
            " dropout_3 (Dropout)         (None, 128)               0         \n",
            "                                                                 \n",
            " dense_7 (Dense)             (None, 35)                4515      \n",
            "                                                                 \n",
            "=================================================================\n",
            "Total params: 211,363\n",
            "Trainable params: 211,363\n",
            "Non-trainable params: 0\n",
            "_________________________________________________________________\n"
          ]
        }
      ]
    },
    {
      "cell_type": "code",
      "source": [
        "y.shape"
      ],
      "metadata": {
        "colab": {
          "base_uri": "https://localhost:8080/"
        },
        "id": "dKrxfjeAlAo9",
        "outputId": "47ead1b7-bc7d-45a3-faf7-9b6772128023"
      },
      "execution_count": 190,
      "outputs": [
        {
          "output_type": "execute_result",
          "data": {
            "text/plain": [
              "(11025, 35)"
            ]
          },
          "metadata": {},
          "execution_count": 190
        }
      ]
    },
    {
      "cell_type": "code",
      "source": [
        "np.unique(y)"
      ],
      "metadata": {
        "colab": {
          "base_uri": "https://localhost:8080/"
        },
        "id": "-86Usg-WlD_l",
        "outputId": "79ce8ff0-3cd2-41f6-cd34-1e908525ba4e"
      },
      "execution_count": 191,
      "outputs": [
        {
          "output_type": "execute_result",
          "data": {
            "text/plain": [
              "array([0., 1.], dtype=float32)"
            ]
          },
          "metadata": {},
          "execution_count": 191
        }
      ]
    },
    {
      "cell_type": "code",
      "source": [
        "model.compile(optimizer='Adam', metrics=['accuracy'], loss='categorical_crossentropy')"
      ],
      "metadata": {
        "id": "DXvQO8EOeGHH"
      },
      "execution_count": 192,
      "outputs": []
    },
    {
      "cell_type": "code",
      "source": [
        "history = model.fit(X_train, Y_train, batch_size=10, epochs=10)"
      ],
      "metadata": {
        "colab": {
          "base_uri": "https://localhost:8080/"
        },
        "id": "kwuqv0HbfAPf",
        "outputId": "ebaa1c6b-e626-4699-a4e7-11dfff1e4928"
      },
      "execution_count": 193,
      "outputs": [
        {
          "output_type": "stream",
          "name": "stdout",
          "text": [
            "Epoch 1/10\n",
            "882/882 [==============================] - 5s 5ms/step - loss: 0.9253 - accuracy: 0.7514\n",
            "Epoch 2/10\n",
            "882/882 [==============================] - 3s 3ms/step - loss: 0.0707 - accuracy: 0.9791\n",
            "Epoch 3/10\n",
            "882/882 [==============================] - 3s 4ms/step - loss: 0.0348 - accuracy: 0.9882\n",
            "Epoch 4/10\n",
            "882/882 [==============================] - 3s 4ms/step - loss: 0.0297 - accuracy: 0.9908\n",
            "Epoch 5/10\n",
            "882/882 [==============================] - 3s 4ms/step - loss: 0.0197 - accuracy: 0.9940\n",
            "Epoch 6/10\n",
            "882/882 [==============================] - 3s 3ms/step - loss: 0.0159 - accuracy: 0.9942\n",
            "Epoch 7/10\n",
            "882/882 [==============================] - 3s 3ms/step - loss: 0.0218 - accuracy: 0.9944\n",
            "Epoch 8/10\n",
            "882/882 [==============================] - 3s 3ms/step - loss: 0.0135 - accuracy: 0.9965\n",
            "Epoch 9/10\n",
            "882/882 [==============================] - 3s 4ms/step - loss: 0.0162 - accuracy: 0.9946\n",
            "Epoch 10/10\n",
            "882/882 [==============================] - 3s 4ms/step - loss: 0.0125 - accuracy: 0.9963\n"
          ]
        }
      ]
    },
    {
      "cell_type": "code",
      "source": [
        "history.history??"
      ],
      "metadata": {
        "id": "VjPeXxxPT7VH"
      },
      "execution_count": 194,
      "outputs": []
    },
    {
      "cell_type": "code",
      "source": [
        "history.history.keys()"
      ],
      "metadata": {
        "colab": {
          "base_uri": "https://localhost:8080/"
        },
        "id": "mihMjyvHT7SU",
        "outputId": "588a4104-4c45-42f9-ca08-af28b0f7dac9"
      },
      "execution_count": 195,
      "outputs": [
        {
          "output_type": "execute_result",
          "data": {
            "text/plain": [
              "dict_keys(['loss', 'accuracy'])"
            ]
          },
          "metadata": {},
          "execution_count": 195
        }
      ]
    },
    {
      "cell_type": "code",
      "source": [
        "import matplotlib.pyplot as plt"
      ],
      "metadata": {
        "id": "4r2Z2oc2T7P8"
      },
      "execution_count": 196,
      "outputs": []
    },
    {
      "cell_type": "code",
      "source": [
        "plt.plot(history.history['accuracy'])\n",
        "# plt.plot(history.history[''])\n",
        "plt.title('model accuracy')\n",
        "plt.ylabel('accuracy')\n",
        "plt.xlabel('epoch')\n",
        "plt.legend(['train'],loc='upper left')\n",
        "plt.show()"
      ],
      "metadata": {
        "id": "quneJMI6T7Ns",
        "colab": {
          "base_uri": "https://localhost:8080/",
          "height": 295
        },
        "outputId": "bea10a72-c9ea-404f-e502-176aee7ddb0e"
      },
      "execution_count": 197,
      "outputs": [
        {
          "output_type": "display_data",
          "data": {
            "text/plain": [
              "<Figure size 432x288 with 1 Axes>"
            ],
            "image/png": "[encoded data removed]"
          },
          "metadata": {
            "needs_background": "light"
          }
        }
      ]
    },
    {
      "cell_type": "code",
      "source": [
        "plt.plot(history.history['loss'])\n",
        "plt.title('model loss')\n",
        "plt.ylabel('loss')\n",
        "plt.xlabel('epoch')\n",
        "plt.legend(['train'],loc='upper left')\n",
        "plt.show()"
      ],
      "metadata": {
        "id": "erFwWukZOxzQ",
        "colab": {
          "base_uri": "https://localhost:8080/",
          "height": 295
        },
        "outputId": "9ea2b9d9-7067-4f03-a589-19db202fd6c4"
      },
      "execution_count": 198,
      "outputs": [
        {
          "output_type": "display_data",
          "data": {
            "text/plain": [
              "<Figure size 432x288 with 1 Axes>"
            ],
            "image/png": "[encoded data removed]"
          },
          "metadata": {
            "needs_background": "light"
          }
        }
      ]
    },
    {
      "cell_type": "code",
      "source": [
        "model.evaluate(X_test,Y_test,batch_size=10)"
      ],
      "metadata": {
        "colab": {
          "base_uri": "https://localhost:8080/"
        },
        "id": "ibhsQiXpVyQB",
        "outputId": "49f5853b-bd65-45f9-8d9b-3022eceb1ed4"
      },
      "execution_count": 199,
      "outputs": [
        {
          "output_type": "stream",
          "name": "stdout",
          "text": [
            "221/221 [==============================] - 1s 3ms/step - loss: 0.0052 - accuracy: 0.9968\n"
          ]
        },
        {
          "output_type": "execute_result",
          "data": {
            "text/plain": [
              "[0.005227705929428339, 0.9968253970146179]"
            ]
          },
          "metadata": {},
          "execution_count": 199
        }
      ]
    },
    {
      "cell_type": "code",
      "source": [],
      "metadata": {
        "id": "NLoK3RSTV8Kh"
      },
      "execution_count": 199,
      "outputs": []
    },
    {
      "cell_type": "code",
      "source": [],
      "metadata": {
        "id": "8xUOWqGEVxtb"
      },
      "execution_count": 199,
      "outputs": []
    },
    {
      "cell_type": "code",
      "source": [
        "y_pred = model.predict(X_test)"
      ],
      "metadata": {
        "colab": {
          "base_uri": "https://localhost:8080/"
        },
        "id": "lpJTvL0VfISG",
        "outputId": "337f0b82-7f79-4e38-8a9a-b3801de9d0d1"
      },
      "execution_count": 200,
      "outputs": [
        {
          "output_type": "stream",
          "name": "stdout",
          "text": [
            "69/69 [==============================] - 0s 3ms/step\n"
          ]
        }
      ]
    },
    {
      "cell_type": "code",
      "source": [],
      "metadata": {
        "id": "oGxlM4sk8YFX"
      },
      "execution_count": 200,
      "outputs": []
    },
    {
      "cell_type": "code",
      "source": [
        "from sklearn.metrics import accuracy_score\n",
        "accuracy_score(Y_test, y_pred.round())*100"
      ],
      "metadata": {
        "colab": {
          "base_uri": "https://localhost:8080/"
        },
        "id": "t_xFqFIEfvU5",
        "outputId": "b751ebb0-6a7e-438d-8f4e-f0875dbdbbb2"
      },
      "execution_count": 201,
      "outputs": [
        {
          "output_type": "execute_result",
          "data": {
            "text/plain": [
              "99.68253968253968"
            ]
          },
          "metadata": {},
          "execution_count": 201
        }
      ]
    },
    {
      "cell_type": "code",
      "source": [
        "from sklearn.metrics import classification_report, confusion_matrix,ConfusionMatrixDisplay"
      ],
      "metadata": {
        "id": "z9n5v_Qxfvqd"
      },
      "execution_count": 202,
      "outputs": []
    },
    {
      "cell_type": "code",
      "source": [
        "y_check=np.argmax(y_pred,axis=1)"
      ],
      "metadata": {
        "id": "iMVdpKYk6_d_"
      },
      "execution_count": 203,
      "outputs": []
    },
    {
      "cell_type": "code",
      "source": [
        "y_check"
      ],
      "metadata": {
        "colab": {
          "base_uri": "https://localhost:8080/"
        },
        "id": "vhpzPj2H8lz9",
        "outputId": "8de82fa8-b9d5-4f3a-f6d0-f707dbf65c4f"
      },
      "execution_count": 204,
      "outputs": [
        {
          "output_type": "execute_result",
          "data": {
            "text/plain": [
              "array([ 1, 33, 30, ..., 14, 33, 22])"
            ]
          },
          "metadata": {},
          "execution_count": 204
        }
      ]
    },
    {
      "cell_type": "code",
      "source": [
        "Y_testing=np.argmax(Y_test,axis=1)"
      ],
      "metadata": {
        "id": "J4VnRwo28oUF"
      },
      "execution_count": 205,
      "outputs": []
    },
    {
      "cell_type": "code",
      "source": [
        "Y_testing"
      ],
      "metadata": {
        "colab": {
          "base_uri": "https://localhost:8080/"
        },
        "id": "C9X0zhm28uKP",
        "outputId": "c6338c86-51e6-468f-b5e3-ab456f5a1971"
      },
      "execution_count": 206,
      "outputs": [
        {
          "output_type": "execute_result",
          "data": {
            "text/plain": [
              "array([ 1, 33, 30, ..., 14, 33, 22])"
            ]
          },
          "metadata": {},
          "execution_count": 206
        }
      ]
    },
    {
      "cell_type": "code",
      "source": [
        "confusion_matrix(Y_testing, y_check)"
      ],
      "metadata": {
        "colab": {
          "base_uri": "https://localhost:8080/"
        },
        "id": "qJw7E2TG6byI",
        "outputId": "15b97b3b-5d4f-4e2d-8583-85e4321308e2"
      },
      "execution_count": 207,
      "outputs": [
        {
          "output_type": "execute_result",
          "data": {
            "text/plain": [
              "array([[56,  0,  0, ...,  0,  0,  0],\n",
              "       [ 0, 54,  0, ...,  0,  0,  0],\n",
              "       [ 0,  0, 66, ...,  0,  0,  0],\n",
              "       ...,\n",
              "       [ 0,  0,  0, ..., 70,  0,  0],\n",
              "       [ 0,  0,  0, ...,  0, 53,  0],\n",
              "       [ 0,  0,  0, ...,  0,  0, 50]])"
            ]
          },
          "metadata": {},
          "execution_count": 207
        }
      ]
    },
    {
      "cell_type": "code",
      "source": [
        "# confusion_matrix = confusion_matrix(Y_testing, y_check)\n",
        "# cm_display = ConfusionMatrixDisplay(confusion_matrix = confusion_matrix, display_labels = [False, True])\n",
        "# cm_display.plot()\n",
        "# plt.show()"
      ],
      "metadata": {
        "id": "zBZ_NwQO_LMe"
      },
      "execution_count": 208,
      "outputs": []
    },
    {
      "cell_type": "code",
      "source": [
        "# cm_display.plot()\n",
        "# plt.show()"
      ],
      "metadata": {
        "id": "dYdzhm1y_5SJ"
      },
      "execution_count": 209,
      "outputs": []
    },
    {
      "cell_type": "code",
      "source": [],
      "metadata": {
        "id": "2G-PPDAPASVw"
      },
      "execution_count": 209,
      "outputs": []
    },
    {
      "cell_type": "code",
      "source": [
        "print(classification_report(y_pred.round(), Y_test))"
      ],
      "metadata": {
        "colab": {
          "base_uri": "https://localhost:8080/"
        },
        "id": "wuK0kBkIf1Wb",
        "outputId": "4cbc3612-e317-4419-9c14-53ebc5a9dadb"
      },
      "execution_count": 210,
      "outputs": [
        {
          "output_type": "stream",
          "name": "stdout",
          "text": [
            "              precision    recall  f1-score   support\n",
            "\n",
            "           0       1.00      1.00      1.00        56\n",
            "           1       0.98      1.00      0.99        54\n",
            "           2       1.00      1.00      1.00        66\n",
            "           3       1.00      0.99      0.99        68\n",
            "           4       1.00      1.00      1.00        56\n",
            "           5       1.00      1.00      1.00        81\n",
            "           6       1.00      1.00      1.00        61\n",
            "           7       1.00      1.00      1.00        55\n",
            "           8       1.00      1.00      1.00        61\n",
            "           9       1.00      1.00      1.00        71\n",
            "          10       1.00      1.00      1.00        81\n",
            "          11       1.00      1.00      1.00        68\n",
            "          12       1.00      1.00      1.00        78\n",
            "          13       1.00      1.00      1.00        37\n",
            "          14       1.00      1.00      1.00        55\n",
            "          15       1.00      1.00      1.00        64\n",
            "          16       1.00      1.00      1.00        61\n",
            "          17       1.00      1.00      1.00        61\n",
            "          18       1.00      1.00      1.00        69\n",
            "          19       0.92      1.00      0.96        67\n",
            "          20       1.00      1.00      1.00        63\n",
            "          21       1.00      1.00      1.00        52\n",
            "          22       1.00      0.99      0.99        71\n",
            "          23       1.00      1.00      1.00        66\n",
            "          24       1.00      1.00      1.00        71\n",
            "          25       1.00      1.00      1.00        74\n",
            "          26       1.00      1.00      1.00        65\n",
            "          27       1.00      1.00      1.00        64\n",
            "          28       1.00      1.00      1.00        66\n",
            "          29       1.00      1.00      1.00        55\n",
            "          30       1.00      0.93      0.96        57\n",
            "          31       1.00      1.00      1.00        57\n",
            "          32       1.00      1.00      1.00        70\n",
            "          33       1.00      1.00      1.00        53\n",
            "          34       1.00      1.00      1.00        50\n",
            "\n",
            "   micro avg       1.00      1.00      1.00      2204\n",
            "   macro avg       1.00      1.00      1.00      2204\n",
            "weighted avg       1.00      1.00      1.00      2204\n",
            " samples avg       1.00      1.00      1.00      2204\n",
            "\n"
          ]
        },
        {
          "output_type": "stream",
          "name": "stderr",
          "text": [
            "/usr/local/lib/python3.8/dist-packages/sklearn/metrics/_classification.py:1318: UndefinedMetricWarning: Recall and F-score are ill-defined and being set to 0.0 in samples with no true labels. Use `zero_division` parameter to control this behavior.\n",
            "  _warn_prf(average, modifier, msg_start, len(result))\n"
          ]
        }
      ]
    },
    {
      "cell_type": "code",
      "source": [
        "accuracy = model.evaluate(X_test,Y_test,batch_size=138)\n",
        "print(\"Accuracy: \",accuracy[1]*100)"
      ],
      "metadata": {
        "colab": {
          "base_uri": "https://localhost:8080/"
        },
        "id": "SGbIUhOHf3id",
        "outputId": "711c40fb-9c06-4d1b-ff1a-d471a8637f1e"
      },
      "execution_count": 211,
      "outputs": [
        {
          "output_type": "stream",
          "name": "stdout",
          "text": [
            "16/16 [==============================] - 0s 16ms/step - loss: 0.0052 - accuracy: 0.9968\n",
            "Accuracy:  99.68253970146179\n"
          ]
        }
      ]
    },
    {
      "cell_type": "code",
      "source": [
        "# model.save_weights('/content/drive/MyDrive/Freelance/NomanRafique/')\n",
        "model.save('my_model.h5') \n"
      ],
      "metadata": {
        "id": "hBX1FbdTf6PS"
      },
      "execution_count": 212,
      "outputs": []
    },
    {
      "cell_type": "code",
      "source": [
        "model.save('/content/drive/MyDrive/my_model.h5') "
      ],
      "metadata": {
        "id": "w2a8SirfD2RV"
      },
      "execution_count": 213,
      "outputs": []
    },
    {
      "cell_type": "code",
      "source": [],
      "metadata": {
        "id": "jbIh3xz_uCaE"
      },
      "execution_count": null,
      "outputs": []
    }
  ]
}